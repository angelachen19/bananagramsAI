{
 "cells": [
  {
   "cell_type": "code",
   "execution_count": null,
   "id": "caacebea",
   "metadata": {},
   "outputs": [],
   "source": [
    "import matplotlib.pyplot as plt\n",
    "import player\n",
    "import model"
   ]
  },
  {
   "cell_type": "code",
   "execution_count": null,
   "id": "0f0704a2",
   "metadata": {},
   "outputs": [],
   "source": [
    "player.train()\n",
    "print()"
   ]
  },
  {
   "cell_type": "markdown",
   "id": "cf2ff6b8",
   "metadata": {},
   "source": [
    "## Number of Board Resets\n",
    "Plotting the number games we have run versus number of times the board resets. Here we run the trainer 1000 times"
   ]
  },
  {
   "cell_type": "code",
   "execution_count": null,
   "id": "bb83927c",
   "metadata": {},
   "outputs": [],
   "source": [
    "x=[1,2,3,4,5,6,7,8]\n",
    "y=[2,4,6,8,10,12,14,16]\n",
    "\n",
    "plt.plot(x,y)\n",
    "plt.title('Number of Board Resets')\n",
    "plt.xlabel('# of game runs')\n",
    "plt.ylabel('# of board resets')\n",
    "plt.show()\n"
   ]
  },
  {
   "cell_type": "markdown",
   "id": "b01a89fe",
   "metadata": {},
   "source": [
    "## Amount of Time it takes to complete the Game\n",
    "Plotting the number of games we have run versus the amount of time it takes to complete the game. Here we run the trainer 1000 times."
   ]
  },
  {
   "cell_type": "code",
   "execution_count": null,
   "id": "cd6c7b0d",
   "metadata": {},
   "outputs": [],
   "source": [
    "x=[1,2,3,4,5,6,7,8]\n",
    "y=[2,4,6,8,10,12,14,16]\n",
    "\n",
    "plt.plot(x,y)\n",
    "plt.title('Time to Complete Board')\n",
    "plt.xlabel('# of game runs')\n",
    "plt.ylabel('Time to Complete Board')\n",
    "plt.show()"
   ]
  },
  {
   "cell_type": "markdown",
   "id": "80530c4a",
   "metadata": {},
   "source": [
    "## Loss Function"
   ]
  },
  {
   "cell_type": "code",
   "execution_count": null,
   "id": "53630c4f",
   "metadata": {},
   "outputs": [],
   "source": [
    "print(get)"
   ]
  }
 ],
 "metadata": {
  "kernelspec": {
   "display_name": "Python 3.7.0 64-bit",
   "language": "python",
   "name": "python3"
  },
  "language_info": {
   "codemirror_mode": {
    "name": "ipython",
    "version": 3
   },
   "file_extension": ".py",
   "mimetype": "text/x-python",
   "name": "python",
   "nbconvert_exporter": "python",
   "pygments_lexer": "ipython3",
   "version": "3.7.0"
  },
  "vscode": {
   "interpreter": {
    "hash": "e534e48711db4d1e1c48977d0d14ff85b1f16d41bcc4fdfd88268a329b3c9d66"
   }
  }
 },
 "nbformat": 4,
 "nbformat_minor": 5
}
